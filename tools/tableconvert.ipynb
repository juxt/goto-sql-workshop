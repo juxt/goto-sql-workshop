{
 "cells": [
  {
   "cell_type": "code",
   "execution_count": 2,
   "metadata": {},
   "outputs": [
    {
     "name": "stdout",
     "output_type": "stream",
     "text": [
      "Paste this into slides.com:\n",
      "<div class=\"sl-block is-focused\" data-block-type=\"table\" style=\"height: auto; min-width: 120px; width: 819px; left: -21.3px; top: 291.5px;\" data-name=\"table-5b4aff\" data-origin-id=\"40569a422242a0aa7ecbeacfb60d4ae0\">\n",
      "    <div class=\"sl-block-content\" style=\"z-index: 16;\" data-table-rows=\"10\" data-table-cols=\"6\">\n",
      "        <table><tr><th>_id</th><th>coverage_amount</th><th>policy_details</th><th>policy_holder_name</th><th>policy_type</th><th>premium_amount</th></tr><tr><td>POL123456</td><td>100000</td><td>{\"dob\":\"1980-01-01\"}</td><td>John Doe</td><td>Health</td><td>1200.5</td></tr><tr><td>POL123460</td><td>120000</td><td>{\"dob\":\"1982-05-05\"}</td><td>Charlie Davis</td><td>Health</td><td>1100.25</td></tr><tr><td>POL123462</td><td>250000</td><td>{\"dob\":\"1975-07-07\"}</td><td>Evan Foster</td><td>Life</td><td>1600.75</td></tr><tr><td>POL123458</td><td>200000</td><td>{\"dob\":\"1970-03-03\"}</td><td>Alice Johnson</td><td>Life</td><td>1500</td></tr><tr><td>POL123461</td><td>60000</td><td>{\"dob\":\"1988-06-06\"}</td><td>Diana Evans</td><td>Auto</td><td>950.5</td></tr><tr><td>POL123459</td><td>150000</td><td>{\"dob\":\"1990-04-04\"}</td><td>Bob Brown</td><td>Home</td><td>800</td></tr><tr><td>POL123463</td><td>175000</td><td>{\"dob\":\"1992-08-08\"}</td><td>Fiona Green</td><td>Home</td><td>850</td></tr><tr><td>POL123464</td><td>130000</td><td>{\"dob\":\"1978-09-09\"}</td><td>George Harris</td><td>Health</td><td>1150</td></tr><tr><td>POL123457</td><td>50000</td><td>{\"dob\":\"1985-02-02\"}</td><td>Jane Smith</td><td>Auto</td><td>900.75</td></tr>\n",
      "    </div>\n",
      "</div>\n"
     ]
    }
   ],
   "source": [
    "import csv\n",
    "\n",
    "file_path = \"../sql/table.csv\"\n",
    "\n",
    "with open(file_path) as csv_file:\n",
    "    csv_reader = csv.reader(csv_file, delimiter=',')\n",
    "    row_count = 0\n",
    "    col_count = None\n",
    "    out_html = \"<table>\"\n",
    "\n",
    "    for row in csv_reader:\n",
    "        out_html += \"<tr>\"\n",
    "        if row_count == 0:\n",
    "            col_count = len(row)\n",
    "            out_html += \"\".join([f\"<th>{col}</th>\" for col in row])\n",
    "            row_count += 1\n",
    "        else:\n",
    "            out_html += \"\".join([f\"<td>{col}</td>\" for col in row])\n",
    "            row_count += 1\n",
    "        out_html += \"</tr>\"\n",
    "        \n",
    "    print(\"Paste this into slides.com:\")\n",
    "    \n",
    "    print(f\"\"\"<div class=\"sl-block is-focused\" data-block-type=\"table\" style=\"height: auto; min-width: 120px; width: 819px; left: -21.3px; top: 291.5px;\" data-name=\"table-5b4aff\" data-origin-id=\"40569a422242a0aa7ecbeacfb60d4ae0\">\n",
    "    <div class=\"sl-block-content\" style=\"z-index: 16;\" data-table-rows=\"{row_count}\" data-table-cols=\"{col_count}\">\n",
    "        {out_html}\n",
    "    </div>\n",
    "</div>\"\"\")"
   ]
  }
 ],
 "metadata": {
  "kernelspec": {
   "display_name": "Python 3",
   "language": "python",
   "name": "python3"
  },
  "language_info": {
   "codemirror_mode": {
    "name": "ipython",
    "version": 3
   },
   "file_extension": ".py",
   "mimetype": "text/x-python",
   "name": "python",
   "nbconvert_exporter": "python",
   "pygments_lexer": "ipython3",
   "version": "3.11.10"
  }
 },
 "nbformat": 4,
 "nbformat_minor": 2
}
