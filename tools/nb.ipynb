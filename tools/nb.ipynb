{
 "cells": [
  {
   "cell_type": "code",
   "execution_count": 11,
   "metadata": {},
   "outputs": [],
   "source": [
    "import psycopg as pg\n",
    "\n",
    "DB_PARAMS = {\n",
    "    \"host\": \"localhost\",\n",
    "    \"port\": 5433\n",
    "}\n",
    "\n",
    "conn = pg.Connection.connect(**DB_PARAMS, autocommit=True)\n",
    "# required for now https://github.com/xtdb/xtdb/issues/3589\n",
    "conn.adapters.register_dumper(str, pg.types.string.StrDumperVarchar)\n"
   ]
  },
  {
   "cell_type": "code",
   "execution_count": 15,
   "metadata": {},
   "outputs": [],
   "source": [
    "def insert_policies(policies):\n",
    "    query = \"\"\"\n",
    "    INSERT INTO py_policies (_id, policy_holder_name, type) VALUES (%s, %s, %s)\n",
    "    \"\"\"\n",
    "\n",
    "    with conn.cursor() as cur:\n",
    "        for policies in policies:\n",
    "            params = (policies[\"_id\"], policies[\"policy_holder_name\"], policies[\"type\"])\n",
    "            cur.execute(query, params)\n",
    "\n",
    "def get_policies_for(name):\n",
    "    query = \"\"\"\n",
    "    SELECT * FROM py_policies WHERE policy_holder_name = %s\n",
    "    \"\"\"\n",
    "    with conn.cursor() as cur:\n",
    "        cur.execute(query, (name,))\n",
    "        return cur.fetchall()\n",
    "\n",
    "def q(query, args=None):\n",
    "    with conn.cursor() as cur:\n",
    "        cur.execute(query, args)\n",
    "        return cur.fetchall()"
   ]
  },
  {
   "cell_type": "code",
   "execution_count": null,
   "metadata": {},
   "outputs": [],
   "source": [
    "policies = [\n",
    "    {\"_id\": 1, \"policy_holder_name\": \"John Doe\", \"type\": \"Health\"},\n",
    "    {\"_id\": 2, \"policy_holder_name\": \"John Doe\", \"type\": \"Auto\"},\n",
    "    {\"_id\": 3, \"policy_holder_name\": \"Bob Brown\", \"type\": \"Home\"},\n",
    "]\n",
    "\n",
    "insert_policies(policies)\n",
    "print(\"Policies inserted successfully\")\n",
    "\n",
    "print(get_policies_for(\"John Doe\"))"
   ]
  },
  {
   "cell_type": "code",
   "execution_count": null,
   "metadata": {},
   "outputs": [],
   "source": [
    "q(\"SELECT * FROM py_policies\")"
   ]
  }
 ],
 "metadata": {
  "kernelspec": {
   "display_name": "Python 3",
   "language": "python",
   "name": "python3"
  },
  "language_info": {
   "codemirror_mode": {
    "name": "ipython",
    "version": 3
   },
   "file_extension": ".py",
   "mimetype": "text/x-python",
   "name": "python",
   "nbconvert_exporter": "python",
   "pygments_lexer": "ipython3",
   "version": "3.11.10"
  }
 },
 "nbformat": 4,
 "nbformat_minor": 2
}
